{
  "nbformat": 4,
  "nbformat_minor": 0,
  "metadata": {
    "colab": {
      "provenance": [],
      "authorship_tag": "ABX9TyPIFqSeKAw2xQQImAkZcQ9g",
      "include_colab_link": true
    },
    "kernelspec": {
      "name": "python3",
      "display_name": "Python 3"
    },
    "language_info": {
      "name": "python"
    }
  },
  "cells": [
    {
      "cell_type": "markdown",
      "metadata": {
        "id": "view-in-github",
        "colab_type": "text"
      },
      "source": [
        "<a href=\"https://colab.research.google.com/github/122yuuki/Prmn2023a/blob/main/my_answer/Section_1.ipynb\" target=\"_parent\"><img src=\"https://colab.research.google.com/assets/colab-badge.svg\" alt=\"Open In Colab\"/></a>"
      ]
    },
    {
      "cell_type": "markdown",
      "source": [
        "# 課題１"
      ],
      "metadata": {
        "id": "6SW62QhCQA8a"
      }
    },
    {
      "cell_type": "code",
      "execution_count": null,
      "metadata": {
        "colab": {
          "base_uri": "https://localhost:8080/"
        },
        "id": "DzxpFmU-M82D",
        "outputId": "c581c272-ad9d-407b-ebd8-ef8023f111a1"
      },
      "outputs": [
        {
          "output_type": "stream",
          "name": "stdout",
          "text": [
            "b22111830 Nishida yuuki\n"
          ]
        }
      ],
      "source": [
        "print(\"b22111830 Nishida yuuki\")"
      ]
    },
    {
      "cell_type": "markdown",
      "source": [
        "#課題２"
      ],
      "metadata": {
        "id": "ytHRUgPqQJM7"
      }
    },
    {
      "cell_type": "code",
      "source": [
        "student_number = 2211830\n",
        "\n",
        "# pattern1\n",
        "print(\"b\",end=\"\")\n",
        "print(student_number,end=\" \")\n",
        "print(\"Nishida yuuki\")\n",
        "\n",
        "# pattern2\n",
        "print(\"b\" + str(student_number) + \" Nishida yuuki\")\n",
        "\n",
        "# pattern3\n",
        "print(\"b{} Nishida yuuki\".format(student_number))\n",
        "\n",
        "# pattern4\n",
        "print(f\"b{student_number} Nishida yuuki\")"
      ],
      "metadata": {
        "colab": {
          "base_uri": "https://localhost:8080/"
        },
        "id": "xmKce8kNODcx",
        "outputId": "5ba6fee4-0c62-4c56-e551-e6656f049aec"
      },
      "execution_count": null,
      "outputs": [
        {
          "output_type": "stream",
          "name": "stdout",
          "text": [
            "b2211830 Nishida yuuki\n",
            "b2211830 Nishida yuuki\n",
            "b2211830 Nishida yuuki\n",
            "b2211830 Nishida yuuki\n"
          ]
        }
      ]
    },
    {
      "cell_type": "markdown",
      "source": [
        "# 課題３"
      ],
      "metadata": {
        "id": "kvG3LjCWQb5w"
      }
    },
    {
      "cell_type": "code",
      "source": [
        "import random  # randomを使うためにimportする\n",
        "\n",
        "ran = random.randint(1,280)\n",
        "student_number = 222000 + ran*10  # 10飛ばしの整数を生成したいのだから、\n",
        "                                  # 10～2800と範囲を指定するのではなく1～280と範囲を指定し、その乱数を10倍すればよい\n",
        "\n",
        "# pattern1\n",
        "print(\"b\",end=\"\")\n",
        "print(student_number,end=\" \")\n",
        "print(\"Nishida yuuki\")\n",
        "\n",
        "# pattern2\n",
        "print(\"b\" + str(student_number) + \" Nishida yuuki\")\n",
        "\n",
        "# pattern3\n",
        "print(\"b{} Nishida yuuki\".format(student_number))\n",
        "\n",
        "# pattern4\n",
        "print(f\"b{student_number} Nishida yuuki\")"
      ],
      "metadata": {
        "colab": {
          "base_uri": "https://localhost:8080/"
        },
        "id": "MmYwiMGDQp-g",
        "outputId": "42f6e84d-1deb-4966-811c-a0003b817009"
      },
      "execution_count": 21,
      "outputs": [
        {
          "output_type": "stream",
          "name": "stdout",
          "text": [
            "b224600 Nishida yuuki\n",
            "b224600 Nishida yuuki\n",
            "b224600 Nishida yuuki\n",
            "b224600 Nishida yuuki\n"
          ]
        }
      ]
    }
  ]
}