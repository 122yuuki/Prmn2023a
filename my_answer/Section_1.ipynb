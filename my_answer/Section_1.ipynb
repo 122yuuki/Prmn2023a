{
  "nbformat": 4,
  "nbformat_minor": 0,
  "metadata": {
    "colab": {
      "provenance": [],
      "authorship_tag": "ABX9TyO7LrvYNJUBH4BU1X/hFyKC",
      "include_colab_link": true
    },
    "kernelspec": {
      "name": "python3",
      "display_name": "Python 3"
    },
    "language_info": {
      "name": "python"
    }
  },
  "cells": [
    {
      "cell_type": "markdown",
      "metadata": {
        "id": "view-in-github",
        "colab_type": "text"
      },
      "source": [
        "<a href=\"https://colab.research.google.com/github/122yuuki/Prmn2023a/blob/main/my_answer/Section_1.ipynb\" target=\"_parent\"><img src=\"https://colab.research.google.com/assets/colab-badge.svg\" alt=\"Open In Colab\"/></a>"
      ]
    },
    {
      "cell_type": "markdown",
      "source": [
        "# 課題１"
      ],
      "metadata": {
        "id": "6SW62QhCQA8a"
      }
    },
    {
      "cell_type": "code",
      "execution_count": null,
      "metadata": {
        "colab": {
          "base_uri": "https://localhost:8080/"
        },
        "id": "DzxpFmU-M82D",
        "outputId": "c581c272-ad9d-407b-ebd8-ef8023f111a1"
      },
      "outputs": [
        {
          "output_type": "stream",
          "name": "stdout",
          "text": [
            "b22111830 Nishida yuuki\n"
          ]
        }
      ],
      "source": [
        "print(\"b22111830 Nishida yuuki\")"
      ]
    },
    {
      "cell_type": "markdown",
      "source": [
        "#課題２"
      ],
      "metadata": {
        "id": "ytHRUgPqQJM7"
      }
    },
    {
      "cell_type": "code",
      "source": [
        "student_number = 2211830\n",
        "\n",
        "# part1\n",
        "print(\"b\",end=\"\")\n",
        "print(student_number,end=\" \")\n",
        "print(\"Nishida yuuki\")\n",
        "\n",
        "# part2\n",
        "print(\"b\" + str(student_number) + \" Nishida yuuki\")\n",
        "\n",
        "# part3\n",
        "print(\"b{} Nishida yuuki\".format(student_number))\n",
        "\n",
        "# part4\n",
        "print(f\"b{student_number} Nishida yuuki\")"
      ],
      "metadata": {
        "colab": {
          "base_uri": "https://localhost:8080/"
        },
        "id": "xmKce8kNODcx",
        "outputId": "5ba6fee4-0c62-4c56-e551-e6656f049aec"
      },
      "execution_count": null,
      "outputs": [
        {
          "output_type": "stream",
          "name": "stdout",
          "text": [
            "b2211830 Nishida yuuki\n",
            "b2211830 Nishida yuuki\n",
            "b2211830 Nishida yuuki\n",
            "b2211830 Nishida yuuki\n"
          ]
        }
      ]
    },
    {
      "cell_type": "markdown",
      "source": [
        "# 課題３"
      ],
      "metadata": {
        "id": "kvG3LjCWQb5w"
      }
    },
    {
      "cell_type": "code",
      "source": [
        "import random  # randomを使うためにimport\n",
        "\n",
        "ran = random.randint(1,280)\n",
        "student_number = 222000 + ran*10  # 10飛ばしの整数を生成したいのだから、\n",
        "                                  # 10～2800と範囲を指定するのではなく1～280と範囲を指定し、その乱数を10倍すればよい\n",
        "\n",
        "# part1\n",
        "print(\"b\",end=\"\")\n",
        "print(student_number,end=\" \")\n",
        "print(\"Nishida yuuki\")\n",
        "\n",
        "# part2\n",
        "print(\"b\" + str(student_number) + \" Nishida yuuki\")\n",
        "\n",
        "# part3\n",
        "print(\"b{} Nishida yuuki\".format(student_number))\n",
        "\n",
        "# part4\n",
        "print(f\"b{student_number} Nishida yuuki\")"
      ],
      "metadata": {
        "colab": {
          "base_uri": "https://localhost:8080/"
        },
        "id": "MmYwiMGDQp-g",
        "outputId": "10c9da03-eef7-428d-80d5-b77f3cffa9d1"
      },
      "execution_count": null,
      "outputs": [
        {
          "output_type": "stream",
          "name": "stdout",
          "text": [
            "b222680 Nishida yuuki\n",
            "b222680 Nishida yuuki\n",
            "b222680 Nishida yuuki\n",
            "b222680 Nishida yuuki\n"
          ]
        }
      ]
    }
  ]
}